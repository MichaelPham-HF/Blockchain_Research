{
 "cells": [
  {
   "cell_type": "code",
   "execution_count": null,
   "id": "715dfb32",
   "metadata": {},
   "outputs": [],
   "source": [
    "from googletrans import Translator\n",
    "import pandas as pd\n",
    "from tqdm import tqdm\n",
    "\n",
    "def drop_value(filename):\n",
    "    df = pd.read_csv(filename)\n",
    "    df = df[df['content'] != \"No content\"]\n",
    "    df = df.reset_index(drop=True)\n",
    "    return df\n",
    "\n",
    "# Translate each row's title and content\n",
    "def translate_all_rows(df):\n",
    "    translator = Translator()\n",
    "    titles_en = []\n",
    "    contents_en = []\n",
    "\n",
    "    for i in tqdm(range(len(df))):\n",
    "        try:\n",
    "            title = df.loc[i, 'title']\n",
    "            content = df.loc[i, 'content']\n",
    "\n",
    "            title_en = translator.translate(title, src='vi', dest='en').text\n",
    "            content_en = translator.translate(content, src='vi', dest='en').text\n",
    "\n",
    "        except Exception as e:\n",
    "            print(f\"Error at row {i}: {e}\")\n",
    "            title_en, content_en = \"\", \"\"\n",
    "\n",
    "        titles_en.append(title_en)\n",
    "        contents_en.append(content_en)\n",
    "\n",
    "    df['title_en'] = titles_en\n",
    "    df['content_en'] = contents_en\n",
    "    return df\n",
    "\n",
    "# Testing\n",
    "df = drop_value(\"...csv\")\n",
    "df_translated = translate_all_rows(df)\n",
    "df_translated.to_csv(\"...csv\", index=False)"
   ]
  },
  {
   "cell_type": "code",
   "execution_count": null,
   "id": "c44933a7",
   "metadata": {},
   "outputs": [],
   "source": [
    "#restructuring the df (dropping the vietnamese title and content columns)\n",
    "import pandas as pd\n",
    "df = pd.read_csv(\"...csv\")\n",
    "df.drop(columns=[\"title\", \"content\"], inplace=True)\n",
    "df = df[[\"title_en\", \"url\", \"date\", \"content_en\"]]\n",
    "df.to_csv(\"...csv\", index=False)"
   ]
  }
 ],
 "metadata": {
  "language_info": {
   "name": "python"
  }
 },
 "nbformat": 4,
 "nbformat_minor": 5
}
